{
 "cells": [
  {
   "cell_type": "code",
   "execution_count": 1,
   "id": "5bf0a992",
   "metadata": {},
   "outputs": [],
   "source": [
    "import numpy as np\n",
    "import pandas as pd\n",
    "from itertools import product\n",
    "from turtle import shape\n",
    "from sklearn.impute import SimpleImputer\n",
    "from sklearn.preprocessing import LabelEncoder\n",
    "from sklearn.preprocessing import MinMaxScaler\n",
    "from sklearn.preprocessing import StandardScaler"
   ]
  },
  {
   "cell_type": "code",
   "execution_count": 2,
   "id": "002563f7",
   "metadata": {},
   "outputs": [],
   "source": [
    "data_new = pd.read_excel('多酶使用数据集-模型计算用.xlsx')"
   ]
  },
  {
   "cell_type": "code",
   "execution_count": 3,
   "id": "1b4125df",
   "metadata": {},
   "outputs": [
    {
     "data": {
      "text/html": [
       "<div>\n",
       "<style scoped>\n",
       "    .dataframe tbody tr th:only-of-type {\n",
       "        vertical-align: middle;\n",
       "    }\n",
       "\n",
       "    .dataframe tbody tr th {\n",
       "        vertical-align: top;\n",
       "    }\n",
       "\n",
       "    .dataframe thead th {\n",
       "        text-align: right;\n",
       "    }\n",
       "</style>\n",
       "<table border=\"1\" class=\"dataframe\">\n",
       "  <thead>\n",
       "    <tr style=\"text-align: right;\">\n",
       "      <th></th>\n",
       "      <th>酶</th>\n",
       "      <th>助剂</th>\n",
       "      <th>pH</th>\n",
       "      <th>浓度</th>\n",
       "      <th>孵育温度</th>\n",
       "      <th>孵育时间</th>\n",
       "    </tr>\n",
       "  </thead>\n",
       "  <tbody>\n",
       "    <tr>\n",
       "      <th>0</th>\n",
       "      <td>Ba</td>\n",
       "      <td>AKD</td>\n",
       "      <td>5</td>\n",
       "      <td>0.0001</td>\n",
       "      <td>30</td>\n",
       "      <td>20</td>\n",
       "    </tr>\n",
       "    <tr>\n",
       "      <th>1</th>\n",
       "      <td>Ba</td>\n",
       "      <td>AKD</td>\n",
       "      <td>5</td>\n",
       "      <td>0.0001</td>\n",
       "      <td>30</td>\n",
       "      <td>30</td>\n",
       "    </tr>\n",
       "    <tr>\n",
       "      <th>2</th>\n",
       "      <td>Ba</td>\n",
       "      <td>AKD</td>\n",
       "      <td>5</td>\n",
       "      <td>0.0001</td>\n",
       "      <td>30</td>\n",
       "      <td>40</td>\n",
       "    </tr>\n",
       "    <tr>\n",
       "      <th>3</th>\n",
       "      <td>Ba</td>\n",
       "      <td>AKD</td>\n",
       "      <td>5</td>\n",
       "      <td>0.0001</td>\n",
       "      <td>30</td>\n",
       "      <td>60</td>\n",
       "    </tr>\n",
       "    <tr>\n",
       "      <th>4</th>\n",
       "      <td>Ba</td>\n",
       "      <td>AKD</td>\n",
       "      <td>6</td>\n",
       "      <td>0.0010</td>\n",
       "      <td>40</td>\n",
       "      <td>10</td>\n",
       "    </tr>\n",
       "    <tr>\n",
       "      <th>...</th>\n",
       "      <td>...</td>\n",
       "      <td>...</td>\n",
       "      <td>...</td>\n",
       "      <td>...</td>\n",
       "      <td>...</td>\n",
       "      <td>...</td>\n",
       "    </tr>\n",
       "    <tr>\n",
       "      <th>29994</th>\n",
       "      <td>EG1</td>\n",
       "      <td>PEO</td>\n",
       "      <td>12</td>\n",
       "      <td>1.0000</td>\n",
       "      <td>70</td>\n",
       "      <td>10</td>\n",
       "    </tr>\n",
       "    <tr>\n",
       "      <th>29995</th>\n",
       "      <td>EG1</td>\n",
       "      <td>PEO</td>\n",
       "      <td>12</td>\n",
       "      <td>1.0000</td>\n",
       "      <td>70</td>\n",
       "      <td>20</td>\n",
       "    </tr>\n",
       "    <tr>\n",
       "      <th>29996</th>\n",
       "      <td>EG1</td>\n",
       "      <td>PEO</td>\n",
       "      <td>12</td>\n",
       "      <td>1.0000</td>\n",
       "      <td>70</td>\n",
       "      <td>30</td>\n",
       "    </tr>\n",
       "    <tr>\n",
       "      <th>29997</th>\n",
       "      <td>EG1</td>\n",
       "      <td>PEO</td>\n",
       "      <td>12</td>\n",
       "      <td>1.0000</td>\n",
       "      <td>70</td>\n",
       "      <td>40</td>\n",
       "    </tr>\n",
       "    <tr>\n",
       "      <th>29998</th>\n",
       "      <td>EG1</td>\n",
       "      <td>PEO</td>\n",
       "      <td>12</td>\n",
       "      <td>1.0000</td>\n",
       "      <td>70</td>\n",
       "      <td>60</td>\n",
       "    </tr>\n",
       "  </tbody>\n",
       "</table>\n",
       "<p>29999 rows × 6 columns</p>\n",
       "</div>"
      ],
      "text/plain": [
       "         酶   助剂  pH      浓度  孵育温度  孵育时间\n",
       "0       Ba  AKD   5  0.0001    30    20\n",
       "1       Ba  AKD   5  0.0001    30    30\n",
       "2       Ba  AKD   5  0.0001    30    40\n",
       "3       Ba  AKD   5  0.0001    30    60\n",
       "4       Ba  AKD   6  0.0010    40    10\n",
       "...    ...  ...  ..     ...   ...   ...\n",
       "29994  EG1  PEO  12  1.0000    70    10\n",
       "29995  EG1  PEO  12  1.0000    70    20\n",
       "29996  EG1  PEO  12  1.0000    70    30\n",
       "29997  EG1  PEO  12  1.0000    70    40\n",
       "29998  EG1  PEO  12  1.0000    70    60\n",
       "\n",
       "[29999 rows x 6 columns]"
      ]
     },
     "execution_count": 3,
     "metadata": {},
     "output_type": "execute_result"
    }
   ],
   "source": [
    "data_new"
   ]
  },
  {
   "cell_type": "code",
   "execution_count": 4,
   "id": "5fc825c1",
   "metadata": {},
   "outputs": [],
   "source": [
    "label_encoder = LabelEncoder()\n",
    "data_new['酶'] = label_encoder.fit_transform(data_new['酶'])\n",
    "data_new['助剂'] = label_encoder.fit_transform(data_new['助剂'])"
   ]
  },
  {
   "cell_type": "code",
   "execution_count": 5,
   "id": "51e75885",
   "metadata": {},
   "outputs": [
    {
     "ename": "NameError",
     "evalue": "name 'scaler' is not defined",
     "output_type": "error",
     "traceback": [
      "\u001b[1;31m---------------------------------------------------------------------------\u001b[0m",
      "\u001b[1;31mNameError\u001b[0m                                 Traceback (most recent call last)",
      "Cell \u001b[1;32mIn[5], line 1\u001b[0m\n\u001b[1;32m----> 1\u001b[0m scaler\u001b[38;5;241m.\u001b[39mfit(data_new) \n\u001b[0;32m      2\u001b[0m data_transfer \u001b[38;5;241m=\u001b[39m scaler\u001b[38;5;241m.\u001b[39mtransform(data_new)\n",
      "\u001b[1;31mNameError\u001b[0m: name 'scaler' is not defined"
     ]
    }
   ],
   "source": [
    "scaler.fit(data_new) \n",
    "data_transfer = scaler.transform(data_new)"
   ]
  },
  {
   "cell_type": "code",
   "execution_count": null,
   "id": "957f5380",
   "metadata": {},
   "outputs": [],
   "source": [
    "pre_new = xgb_model_.predict(data_transfer)"
   ]
  },
  {
   "cell_type": "code",
   "execution_count": null,
   "id": "5b831780",
   "metadata": {},
   "outputs": [],
   "source": [
    "data_new = pd.read_excel('多酶使用数据集-模型计算用.xlsx')"
   ]
  },
  {
   "cell_type": "code",
   "execution_count": null,
   "id": "d3398ada",
   "metadata": {},
   "outputs": [],
   "source": [
    "pre_result = data_new.copy() \n",
    "pre_result['酶活'] = pre_new"
   ]
  },
  {
   "cell_type": "code",
   "execution_count": null,
   "id": "246203bb",
   "metadata": {},
   "outputs": [],
   "source": [
    "pre_result"
   ]
  },
  {
   "cell_type": "code",
   "execution_count": null,
   "id": "aa206ace",
   "metadata": {},
   "outputs": [],
   "source": [
    "resultPath = '多酶复配数据集_demo.xlsx'\n",
    "pre_result.to_excel(resultPath,sheet_name = \"多酶复配数据集_demo\",index = False)"
   ]
  }
 ],
 "metadata": {
  "kernelspec": {
   "display_name": "Python 3 (ipykernel)",
   "language": "python",
   "name": "python3"
  },
  "language_info": {
   "codemirror_mode": {
    "name": "ipython",
    "version": 3
   },
   "file_extension": ".py",
   "mimetype": "text/x-python",
   "name": "python",
   "nbconvert_exporter": "python",
   "pygments_lexer": "ipython3",
   "version": "3.11.3"
  }
 },
 "nbformat": 4,
 "nbformat_minor": 5
}
